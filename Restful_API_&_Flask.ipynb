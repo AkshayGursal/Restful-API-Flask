{
  "cells": [
    {
      "cell_type": "markdown",
      "source": [
        "1. What is a RESTful API?\n",
        "Answer:\n",
        "A RESTful API (Representational State Transfer Application Programming Interface) is an architectural style for designing networked applications. It uses standard HTTP methods (GET, POST, PUT, DELETE, PATCH) to perform operations on resources, which are typically identified by unique URLs (Uniform Resource Locators). Key principles include statelessness, client-server separation, cacheability, and a uniform interface.\n",
        "\n",
        "2. Explain the concept of API specification.\n",
        "Answer:\n",
        "An API specification (or API contract) is a detailed, machine-readable document that describes all aspects of an API, including its endpoints, HTTP methods, request parameters, response formats, authentication mechanisms, and error codes. It serves as a blueprint for both API developers and consumers, ensuring consistency, enabling automated testing, and facilitating easier integration. Common specifications include OpenAPI (Swagger) and RAML.\n",
        "\n",
        "3. What is Flask, and why is it popular for building APIs?\n",
        "Answer:\n",
        "Flask is a micro-web framework for Python. It's popular for building APIs because it's lightweight, flexible, and unopinionated, meaning it doesn't enforce specific tools or libraries. This allows developers to choose the components they need, making it ideal for building small to medium-sized APIs quickly. Its simplicity, extensive documentation, and active community also contribute to its popularity.\n",
        "\n",
        "4. What is routing in Flask?\n",
        "Answer:\n",
        "Routing in Flask refers to the mechanism by which URL requests are mapped to specific Python functions (views) that handle those requests. Flask uses decorators, primarily @app.route(), to associate a URL path with a view function. When a client makes a request to a particular URL, Flask looks up the corresponding route and executes the associated function to generate a response.\n",
        "\n",
        "5. How do you create a simple Flask application?\n",
        "Answer:\n",
        "A simple Flask application can be created with just a few lines of code:\n",
        "from flask import Flask\n",
        "app = Flask(__name__)\n",
        "@app.route('/')\n",
        "def hello_world():\n",
        "    return 'Hello, World!'\n",
        "if __name__ == '__main__':\n",
        "    app.run(debug=True)\n",
        "\n",
        "6. What are HTTP methods used in RESTful APIs?\n",
        "Answer:\n",
        "HTTP methods (or verbs) define the type of action to be performed on a resource. The most common ones in RESTful APIs are:\n",
        "GET: Retrieves data from a resource. (Idempotent and safe)\n",
        "POST: Submits new data to a resource, often creating a new resource. (Neither idempotent nor safe)\n",
        "PUT: Updates an existing resource or creates a new one if it doesn't exist. (Idempotent)\n",
        "DELETE: Removes a resource. (Idempotent)\n",
        "PATCH: Partially updates an existing resource. (Neither idempotent nor safe)\n",
        "\n",
        "7. What is the purpose of the @app.route() decorator in Flask?\n",
        "Answer:\n",
        "The @app.route() decorator in Flask is used to bind a URL path to a Python function. When a user navigates to the specified URL in their browser (or a client makes a request to that URL), the decorated function is executed, and its return value is sent back as the response to the client. It's the core mechanism for defining endpoints in a Flask application.\n",
        "\n",
        "8. What is the difference between GET and POST HTTP methods?\n",
        "Answer:\n",
        "GET: Used to retrieve data from a server. Data is sent as URL parameters (query string). It is idempotent (multiple identical requests have the same effect as a single one) and safe (doesn't change server state). Data is visible in the URL and browser history.\n",
        "POST: Used to submit data to a server, often for creating a new resource or performing an action that modifies server state. Data is sent in the request body. It is neither idempotent nor safe. Data is not visible in the URL.\n",
        "\n",
        "9. How do you handle errors in Flask APIs?\n",
        "Answer:\n",
        "Flask provides mechanisms for error handling:\n",
        "@app.errorhandler() decorator: Used to register a function to handle specific HTTP error codes (e.g., 404 Not Found, 500 Internal Server Error).\n",
        "abort() function: Used within view functions to immediately raise an HTTP error.\n",
        "Custom error classes: You can define your own exception classes and register error handlers for them.\n",
        "JSON error responses: For APIs, it's common to return error details in a JSON format.\n",
        "\n",
        "10. How do you connect Flask to a SQL database?\n",
        "Answer:\n",
        "Flask itself doesn't have built-in database connectivity. You connect Flask to a SQL database using various Python libraries and Flask extensions\n",
        "SQLAlchemy: A powerful Object Relational Mapper (ORM) that provides a high-level API to interact with databases.\n",
        "Flask-SQLAlchemy: A Flask extension that integrates SQLAlchemy seamlessly with Flask, simplifying configuration and common database operations.\n",
        "Raw drivers: You can use specific database drivers (e.g., psycopg2 for PostgreSQL, mysql-connector-python for MySQL, sqlite3 for SQLite) directly, though an ORM is usually preferred for complex applications.\n",
        "\n",
        "11. What is the role of Flask-SQLAlchemy?\n",
        "Answer:\n",
        "Flask-SQLAlchemy is a Flask extension that provides SQLAlchemy support for Flask applications. Its role is to:\n",
        "Simplify configuration: Easily configure database connections within your Flask app.\n",
        "Provide a session management system: Manages database sessions, ensuring proper connection handling and transaction management.\n",
        "Integrate with Flask's context: Makes database objects available within Flask's application and request contexts.\n",
        "Offer convenient helpers: Provides helper methods for common ORM operations like querying, adding, and committing data.\n",
        "\n",
        "12. What are Flask blueprints, and how are they useful?\n",
        "Answer:\n",
        "Flask Blueprints are a way to organize your Flask application into smaller, reusable components. They act as \"blueprints\" for parts of your application, allowing you to define routes, static files, and templates relative to the blueprint.\n",
        "Their usefulness includes:\n",
        "Modularity: Breaking down a large application into manageable, independent modules.\n",
        "Reusability: Blueprints can be registered multiple times within the same application or even across different Flask applications.\n",
        "URL Prefixing: Assigning a common URL prefix to all routes defined within a blueprint.\n",
        "Separation of Concerns: Better organization for larger projects, making them easier to maintain and scale.\n",
        "\n",
        "13. What is the purpose of Flask's request object?\n",
        "Answer:\n",
        "Flask's request object (imported from flask) is a global object that provides access to incoming request data. Its purpose is to encapsulate all information related to the current HTTP request made by the client. It allows you to access:\n",
        "HTTP Method: request.method (e.g., 'GET', 'POST')\n",
        "URL Parameters: request.args (for GET query parameters)\n",
        "Form Data: request.form (for POST form data)\n",
        "JSON Data: request.json (for JSON request bodies)\n",
        "Files: request.files (for uploaded files)\n",
        "Headers: request.headers\n",
        "Cookies: request.cookies\n",
        "\n",
        "14. How do you create a RESTful API endpoint using Flask?\n",
        "Answer:\n",
        "You create a RESTful API endpoint in Flask by defining a view function and associating it with a URL path and an HTTP method using the @app.route() decorator. You typically return JSON data using jsonify().\n",
        "\n",
        "15. What is the purpose of Flask's jsonify() function?\n",
        "Answer:\n",
        "Flask's jsonify() function (imported from flask) is a helper function used to serialize Python dictionaries or lists into JSON format and return them as an HTTP response with the Content-Type header set to application/json. It automatically handles the conversion to JSON and sets the appropriate header, making it convenient for building RESTful APIs.\n",
        "\n",
        "16. Explain Flask's url_for() function.\n",
        "Answer:\n",
        "url_for() is a Flask helper function used for URL building. Instead of hardcoding URLs in your templates or Python code, url_for() generates them dynamically based on the name of the view function.\n",
        "Its purpose is to:\n",
        "Prevent broken links: If you change a URL rule in your @app.route() decorator, url_for() will automatically generate the correct new URL, avoiding manual updates.\n",
        "Handle dynamic parts: It can generate URLs with variable parts (e.g., /users/<id>).\n",
        "Support blueprints: It works correctly with URLs defined within Flask blueprints.\n",
        "Add query parameters: You can pass keyword arguments to url_for() to add query parameters to the URL.\n",
        "\n",
        "17. How does Flask handle static files (CSS, JavaScript, etc.)?\n",
        "Answer:\n",
        "Flask handles static files (like CSS, JavaScript, images, and fonts) by serving them from a dedicated directory, typically named static, located within your application's root directory.\n",
        "By default, Flask looks for static files in a folder named static inside your application directory.\n",
        "You refer to static files in your templates using the url_for() function with the special endpoint name 'static' and the filename argument.\n",
        "Example in an HTML template:\n",
        "Flask then serves these files directly.\n",
        "\n",
        "18. What is an API specification, and how does it help in building a Flask API?\n",
        "Answer:\n",
        "(This question is a duplicate of #2, but I'll re-emphasize its relevance to Flask APIs.)\n",
        "An API specification (e.g., OpenAPI/Swagger) is a formal, machine-readable description of your API's endpoints, operations, parameters, responses, and data models.\n",
        "How it helps in building a Flask API:\n",
        "Clear Documentation: Provides interactive and up-to-date documentation for API consumers.\n",
        "Code Generation: Tools can generate client SDKs, server stubs (for Flask), and test cases directly from the spec.\n",
        "Design-First Approach: Encourages defining the API's contract before implementation, leading to better-designed APIs.\n",
        "Consistency: Ensures all developers adhere to the same API contract.\n",
        "Testing: Facilitates automated testing and validation of API responses.\n",
        "Mock Servers: Enables creation of mock servers for frontend development without waiting for backend implementation.\n",
        "\n",
        "19. What are HTTP status codes, and why are they important in a Flask API?\n",
        "Answer:\n",
        "HTTP status codes are three-digit numbers returned by a server in response to an HTTP request, indicating the status of the request. They are categorized into five classes:\n",
        "1xx (Informational): Request received, continuing process.\n",
        "2xx (Success): The action was successfully received, understood, and accepted. (e.g., 200 OK, 201 Created, 204 No Content)\n",
        "3xx (Redirection): Further action needs to be taken to complete the request. (e.g., 301 Moved Permanently)\n",
        "4xx (Client Error): The request contains bad syntax or cannot be fulfilled. (e.g., 400 Bad Request, 401 Unauthorized, 403 Forbidden, 404 Not Found)\n",
        "5xx (Server Error): The server failed to fulfill an apparently valid request. (e.g., 500 Internal Server Error, 503 Service Unavailable)\n",
        "Importance in a Flask API:\n",
        "Communication: They provide immediate feedback to the client about the outcome of their request.\n",
        "Error Handling: Crucial for signaling success, errors, or specific conditions (e.g., resource not found, invalid input).\n",
        "API Usability: A well-designed API uses appropriate status codes to make it easier for clients to integrate and debug.\n",
        "Automated Processing: Allows client-side code and proxies to programmatically understand the response.\n",
        "\n",
        "20. How do you handle POST requests in Flask?\n",
        "Answer:\n",
        "To handle POST requests in Flask, you specify methods=['POST'] in the @app.route() decorator. The data sent in the POST request body can then be accessed using the request object.\n",
        "Form Data (Content-Type: application/x-www-form-urlencoded or multipart/form-data): Access using request.form.\n",
        "JSON Data (Content-Type: application/json): Access using request.json (which automatically parses the JSON).\n",
        "Example (creating a new item):\n",
        "from flask import Flask, request, jsonify\n",
        "app = Flask(__name__)\n",
        "items = []\n",
        "@app.route('/items', methods=['POST'])\n",
        "def add_item():\n",
        "    if request.is_json:\n",
        "        data = request.json\n",
        "        item_name = data.get('name')\n",
        "        if item_name:\n",
        "            items.append(item_name)\n",
        "            return jsonify({\"message\": f\"Item '{item_name}' added\"}), 201\n",
        "        return jsonify({\"error\": \"Name is required\"}), 400\n",
        "    return jsonify({\"error\": \"Request must be JSON\"}), 400\n",
        "\n",
        "21. How would you secure a Flask API?\n",
        "Answer:\n",
        "Securing a Flask API involves multiple layers:\n",
        "Authentication: Verify the identity of the client.\n",
        "Token-based (JWT): Common for APIs. Clients send a token in headers. Use extensions like Flask-JWT-Extended.\n",
        "OAuth2: For third-party access.\n",
        "API Keys: Simpler, but less secure than tokens.\n",
        "Authorization: Determine what an authenticated client is allowed to do.\n",
        "Role-Based Access Control (RBAC): Assign roles to users with specific permissions.\n",
        "Permission-Based Access Control: Fine-grained control over specific actions.\n",
        "Input Validation: Sanitize and validate all incoming data (request.json, request.form) to prevent injection attacks (SQL injection, XSS). Use libraries like Marshmallow or Pydantic.\n",
        "HTTPS/SSL/TLS: Encrypt all communication between client and server to prevent eavesdropping and tampering.\n",
        "Rate Limiting: Prevent abuse and DoS attacks by limiting the number of requests a client can make within a time frame (Flask-Limiter).\n",
        "CORS (Cross-Origin Resource Sharing): Properly configure CORS headers to control which origins can access your API (Flask-CORS).\n",
        "Error Handling: Avoid leaking sensitive information in error messages.\n",
        "Secret Management: Keep sensitive keys (e.g., database credentials, JWT secrets) out of your code and use environment variables or secret management services.\n",
        "Dependency Updates: Regularly update Flask and all extensions to patch security vulnerabilities.\n",
        "Logging and Monitoring: Implement robust logging to detect and respond to suspicious activity.\n",
        "\n",
        "22. What is the significance of the Flask-RESTful extension?\n",
        "Answer:\n",
        "Flask-RESTful is an extension for Flask that provides a fast way to build REST APIs. Its significance lies in:\n",
        "Resource Abstraction: Provides a Resource class to define API endpoints as classes, making it easier to organize and handle different HTTP methods for a single resource.\n",
        "Request Parsing: Includes reqparse for easily parsing and validating request arguments.\n",
        "Error Handling: Offers standardized error handling for common API errors.\n",
        "Content Negotiation: Handles content negotiation (JSON, XML) automatically.\n",
        "Marshalling: Simplifies the process of serializing Python objects to API output formats.\n",
        "URL Routing: Integrates seamlessly with Flask's routing but provides a more structured approach for APIs.\n",
        "It reduces boilerplate code and provides a more opinionated structure for API development compared to plain Flask.\n",
        "\n",
        "23. What is the role of Flask's session object?\n",
        "Answer:\n",
        "Flask's session object is a dictionary-like object (imported from flask) that allows you to store data specific to a user's session between requests. The data stored in the session is typically encrypted and signed, then stored in a cookie on the client's browser.\n",
        "Its role is to:\n",
        "Maintain State: Provides a way to maintain state across multiple requests from the same user, as HTTP is stateless.\n",
        "Store User-Specific Data: Store small amounts of user-specific data that don't need to be persisted in a database (e.g., logged-in user ID, flash messages, shopping cart contents).\n",
        "Security: The session data is cryptographically signed to prevent tampering, and encrypted (though not strictly required for signing to prevent tampering, encryption provides confidentiality). You must set a SECRET_KEY for sessions to work securely.\n",
        "Example:\n",
        "from flask import Flask, session, redirect, url_for\n",
        "app = Flask(__name__)\n",
        "app.secret_key = 'your_secret_key_here' # MUST BE A STRONG, RANDOM KEY!\n",
        "@app.route('/login')\n",
        "def login():\n",
        "    session['username'] = 'JohnDoe'\n",
        "    return 'User logged in'\n",
        "@app.route('/dashboard')\n",
        "def dashboard():\n",
        "    if 'username' in session:\n",
        "        return f'Welcome, {session[\"username\"]}!'\n",
        "    return redirect(url_for('login'))\n",
        "@app.route('/logout')\n",
        "def logout():\n",
        "    session.pop('username', None)\n",
        "    return 'User logged out'"
      ],
      "metadata": {
        "id": "lwyDOn7wcv_R"
      }
    },
    {
      "cell_type": "code",
      "execution_count": 2,
      "metadata": {
        "colab": {
          "base_uri": "https://localhost:8080/"
        },
        "id": "98qvadiOoxpi",
        "outputId": "178ffca3-a3f2-4f79-91bc-b079d9683681"
      },
      "outputs": [
        {
          "output_type": "stream",
          "name": "stdout",
          "text": [
            "Requirement already satisfied: flask in /usr/local/lib/python3.11/dist-packages (3.1.1)\n",
            "Requirement already satisfied: blinker>=1.9.0 in /usr/local/lib/python3.11/dist-packages (from flask) (1.9.0)\n",
            "Requirement already satisfied: click>=8.1.3 in /usr/local/lib/python3.11/dist-packages (from flask) (8.2.1)\n",
            "Requirement already satisfied: itsdangerous>=2.2.0 in /usr/local/lib/python3.11/dist-packages (from flask) (2.2.0)\n",
            "Requirement already satisfied: jinja2>=3.1.2 in /usr/local/lib/python3.11/dist-packages (from flask) (3.1.6)\n",
            "Requirement already satisfied: markupsafe>=2.1.1 in /usr/local/lib/python3.11/dist-packages (from flask) (3.0.2)\n",
            "Requirement already satisfied: werkzeug>=3.1.0 in /usr/local/lib/python3.11/dist-packages (from flask) (3.1.3)\n"
          ]
        }
      ],
      "source": [
        "pip install flask"
      ]
    },
    {
      "cell_type": "code",
      "execution_count": 17,
      "metadata": {
        "id": "bOp1eDsRpTOK"
      },
      "outputs": [],
      "source": [
        "#1. How do you create a basic Flask application?\n",
        "from flask import Flask\n",
        "\n",
        "app = Flask(__name__)\n",
        "\n",
        "@app.route('/')\n",
        "def home():\n",
        "    return \"Hello, Flask!\"\n",
        "\n",
        "if __name__ == '__main__':\n",
        "    app.run(debug=True)"
      ]
    },
    {
      "cell_type": "code",
      "execution_count": 8,
      "metadata": {
        "id": "kctRiQryrrEZ",
        "colab": {
          "base_uri": "https://localhost:8080/",
          "height": 106
        },
        "outputId": "89b9f213-7302-4065-a287-18c57a505606",
        "collapsed": true
      },
      "outputs": [
        {
          "output_type": "error",
          "ename": "SyntaxError",
          "evalue": "invalid character '├' (U+251C) (ipython-input-8-1853579455.py, line 3)",
          "traceback": [
            "\u001b[0;36m  File \u001b[0;32m\"/tmp/ipython-input-8-1853579455.py\"\u001b[0;36m, line \u001b[0;32m3\u001b[0m\n\u001b[0;31m    ├── app.py\u001b[0m\n\u001b[0m    ^\u001b[0m\n\u001b[0;31mSyntaxError\u001b[0m\u001b[0;31m:\u001b[0m invalid character '├' (U+251C)\n"
          ]
        }
      ],
      "source": [
        "#2. How do you serve static files like images or CSS in Flask?\n",
        "my_flask_app/\n",
        "├── app.py\n",
        "├── static/\n",
        "│   ├── css/\n",
        "│   │   └── style.css\n",
        "│   ├── images/\n",
        "│   │   └── logo.png\n",
        "│   └── js/\n",
        "│       └── script.js\n",
        "└── templates/\n",
        "    └── index.html"
      ]
    },
    {
      "cell_type": "code",
      "execution_count": 9,
      "metadata": {
        "id": "EYOHSIr3r8Cl"
      },
      "outputs": [],
      "source": [
        "from flask import Flask\n",
        "app = Flask(__name__)"
      ]
    },
    {
      "cell_type": "code",
      "execution_count": 13,
      "metadata": {
        "id": "--deAqJKPCn3"
      },
      "outputs": [],
      "source": [
        "#3. How do you define different routes with different HTTP methods in Flask?\n",
        "from flask import Flask, request\n",
        "\n",
        "app = Flask(__name__)\n",
        "\n",
        "@app.route('/')\n",
        "def index():\n",
        "    return \"This route uses GET by default\"\n",
        "\n",
        "@app.route('/submit', methods=['POST'])\n",
        "def submit():\n",
        "    data = request.form.get('name')\n",
        "    return f\"Received POST with name: {data}\""
      ]
    },
    {
      "cell_type": "code",
      "execution_count": 16,
      "metadata": {
        "id": "zHNG4w7sP13b",
        "colab": {
          "base_uri": "https://localhost:8080/"
        },
        "outputId": "9ae9cb05-f4cb-4991-f275-b7e324a93680"
      },
      "outputs": [
        {
          "output_type": "stream",
          "name": "stdout",
          "text": [
            " * Serving Flask app '__main__'\n",
            " * Debug mode: on\n"
          ]
        },
        {
          "output_type": "stream",
          "name": "stderr",
          "text": [
            "INFO:werkzeug:\u001b[31m\u001b[1mWARNING: This is a development server. Do not use it in a production deployment. Use a production WSGI server instead.\u001b[0m\n",
            " * Running on http://127.0.0.1:5000\n",
            "INFO:werkzeug:\u001b[33mPress CTRL+C to quit\u001b[0m\n",
            "INFO:werkzeug: * Restarting with stat\n"
          ]
        }
      ],
      "source": [
        "#4.  How do you render HTML templates in Flask?\n",
        "from flask import Flask, render_template\n",
        "\n",
        "app = Flask(__name__)\n",
        "\n",
        "@app.route('/')\n",
        "def index():\n",
        "    return render_template('index.html')\n",
        "\n",
        "if __name__ == '__main__':\n",
        "    app.run(debug=True)\n",
        "\n"
      ]
    },
    {
      "cell_type": "code",
      "source": [
        "#5. How can you generate URLs for routes in Flask using url_for?\n",
        "from flask import Flask, url_for\n",
        "\n",
        "app = Flask(__name__)\n",
        "\n",
        "@app.route('/')\n",
        "def home():\n",
        "    return 'Home Page'\n",
        "\n",
        "@app.route('/profile/<username>')\n",
        "def profile(username):\n",
        "    return f'Profile page of {username}'\n",
        "\n",
        "@app.route('/generate-urls')\n",
        "def generate_urls():\n",
        "    home_url = url_for('home')\n",
        "    profile_url = url_for('profile', username='Akshay')\n",
        "    return f'Home URL: {home_url}, Profile URL: {profile_url}'\n",
        "\n"
      ],
      "metadata": {
        "id": "3488p6TaloG5"
      },
      "execution_count": 18,
      "outputs": []
    },
    {
      "cell_type": "code",
      "source": [
        "#6. How do you handle forms in Flask?\n",
        "<!DOCTYPE html>\n",
        "<html>\n",
        "<head>\n",
        "    <title>Form Example</title>\n",
        "</head>\n",
        "<body>\n",
        "    <h2>Enter your name</h2>\n",
        "    <form method=\"POST\">\n",
        "        <input type=\"text\" name=\"username\" required>\n",
        "        <input type=\"submit\" value=\"Submit\">\n",
        "    </form>\n",
        "</body>\n",
        "</html>\n"
      ],
      "metadata": {
        "id": "_QBThfFilvnv",
        "colab": {
          "base_uri": "https://localhost:8080/",
          "height": 106
        },
        "outputId": "7ac0dc88-1906-41ad-9832-6d2575e8667e"
      },
      "execution_count": 22,
      "outputs": [
        {
          "output_type": "error",
          "ename": "SyntaxError",
          "evalue": "invalid syntax (ipython-input-22-2598237934.py, line 2)",
          "traceback": [
            "\u001b[0;36m  File \u001b[0;32m\"/tmp/ipython-input-22-2598237934.py\"\u001b[0;36m, line \u001b[0;32m2\u001b[0m\n\u001b[0;31m    <!DOCTYPE html>\u001b[0m\n\u001b[0m    ^\u001b[0m\n\u001b[0;31mSyntaxError\u001b[0m\u001b[0;31m:\u001b[0m invalid syntax\n"
          ]
        }
      ]
    },
    {
      "cell_type": "code",
      "source": [
        "#7. How can you validate form data in Flask?\n",
        "if not request.form['name']:\n",
        "    return \"Name is required\", 400\n"
      ],
      "metadata": {
        "id": "HFjSBuHWmCDO"
      },
      "execution_count": null,
      "outputs": []
    },
    {
      "cell_type": "code",
      "source": [
        "#8. How do you manage sessions in Flask?\n",
        "from flask import Flask, session\n",
        "\n",
        "app = Flask(__name__)\n",
        "app.secret_key = 'your_secret_key_here'\n",
        "\n",
        "@app.route('/login')\n",
        "def login():\n",
        "    session['username'] = 'JohnDoe'\n",
        "@app.route('/logout')\n",
        "def logout():\n",
        "    session.pop('user', None)\n",
        "    return 'Logged out'"
      ],
      "metadata": {
        "id": "Jq6vZ92FVIze"
      },
      "execution_count": 24,
      "outputs": []
    },
    {
      "cell_type": "code",
      "metadata": {
        "id": "4aede011"
      },
      "source": [
        "#9. How do you redirect to a different route in Flask?\n",
        "from flask import redirect\n",
        "\n",
        "@app.route('/go')\n",
        "def go():\n",
        "    return redirect('/newpage')"
      ],
      "execution_count": 25,
      "outputs": []
    },
    {
      "cell_type": "code",
      "source": [
        "#10. How do you handle errors in Flask (e.g., 404)?\n",
        "\n",
        "@app.errorhandler(404)\n",
        "def page_not_found(e):\n",
        "    return \"Page not found!\", 404"
      ],
      "metadata": {
        "id": "5S_g9Uz0VtFo"
      },
      "execution_count": 26,
      "outputs": []
    },
    {
      "cell_type": "code",
      "metadata": {
        "colab": {
          "base_uri": "https://localhost:8080/"
        },
        "id": "95571594",
        "outputId": "40bece14-2fee-455b-b04f-31a085628e1e"
      },
      "source": [
        "#11. How do you structure a Flask app using Blueprints?\n",
        "from flask import Flask, Blueprint\n",
        "\n",
        "main_bp = Blueprint('main', __name__, url_prefix='/main')\n",
        "\n",
        "@main_bp.route('/')\n",
        "def index():\n",
        "    return \"Main Blueprint Index Page\"\n",
        "\n",
        "@main_bp.route('/hello')\n",
        "def hello():\n",
        "    return \"Hello from Main Blueprint!\"\n",
        "\n",
        "# Create the Flask application instance\n",
        "app = Flask(__name__)\n",
        "\n",
        "# Register the Blueprint with the application\n",
        "app.register_blueprint(main_bp)\n",
        "\n",
        "@app.route('/')\n",
        "def app_index():\n",
        "    return \"Main Application Index Page\"\n",
        "\n",
        "print(\"Blueprint 'main_bp' defined and registered.\")\n",
        "print(\"Routes: / and /main/, /main/hello\")"
      ],
      "execution_count": 31,
      "outputs": [
        {
          "output_type": "stream",
          "name": "stdout",
          "text": [
            "Blueprint 'main_bp' defined and registered.\n",
            "Routes: / and /main/, /main/hello\n"
          ]
        }
      ]
    },
    {
      "cell_type": "code",
      "source": [
        "#12. How do you define a custom Jinja filter in Flask?\n",
        "\n",
        "@app.template_filter('reverse')\n",
        "def reverse_filter(s):\n",
        "    return s[::-1]"
      ],
      "metadata": {
        "id": "kkLpE7YfWdSZ"
      },
      "execution_count": 33,
      "outputs": []
    },
    {
      "cell_type": "code",
      "source": [
        "#13. How can you redirect with query parameters in Flask?\n",
        "@app.route('/go')\n",
        "def go():\n",
        "    return redirect(url_for('hello', name='Alice'))\n"
      ],
      "metadata": {
        "id": "5ypX9BL5WjmV"
      },
      "execution_count": null,
      "outputs": []
    },
    {
      "cell_type": "code",
      "source": [
        "#14. How do you return JSON responses in Flask?\n",
        "\n",
        "from flask import jsonify\n",
        "@app.route('/json')\n",
        "def json_data():\n",
        "    return jsonify({\"name\": \"Flask\", \"type\": \"API\"})\n"
      ],
      "metadata": {
        "id": "mhbnlz0WWrAW"
      },
      "execution_count": null,
      "outputs": []
    },
    {
      "cell_type": "code",
      "source": [
        "#15. How do you capture URL parameters in Flask?\n",
        "@app.route('/user/')\n",
        "def profile(username):\n",
        "    return f\"User: {username}\""
      ],
      "metadata": {
        "id": "CRB8W6nHWqzk"
      },
      "execution_count": null,
      "outputs": []
    }
  ],
  "metadata": {
    "colab": {
      "provenance": []
    },
    "kernelspec": {
      "display_name": "Python 3",
      "name": "python3"
    },
    "language_info": {
      "name": "python"
    }
  },
  "nbformat": 4,
  "nbformat_minor": 0
}